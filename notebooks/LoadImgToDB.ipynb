{
 "cells": [
  {
   "cell_type": "code",
   "execution_count": 1,
   "id": "d6acd5da",
   "metadata": {},
   "outputs": [],
   "source": [
    "# Load default images to memory\n",
    "\n",
    "import os\n",
    "\n",
    "import matplotlib.pyplot as plt\n",
    "\n",
    "image_paths = [os.path.join(os.getcwd(), os.pardir, 'database', 'default_files', fname) for fname in os.listdir(os.path.join(os.pardir, 'database', 'default_files'))]"
   ]
  },
  {
   "cell_type": "code",
   "execution_count": 2,
   "id": "abbd449e",
   "metadata": {},
   "outputs": [],
   "source": [
    "# read to disk\n",
    "image_matrices = [plt.imread(path) for path in image_paths]\n",
    "\n",
    "# add z-dimension to matrices"
   ]
  },
  {
   "cell_type": "code",
   "execution_count": 3,
   "id": "67a606d8",
   "metadata": {},
   "outputs": [
    {
     "data": {
      "text/plain": [
       "(1080, 1920, 3)"
      ]
     },
     "execution_count": 3,
     "metadata": {},
     "output_type": "execute_result"
    }
   ],
   "source": [
    "i = image_matrices[0]\n",
    "i.shape"
   ]
  },
  {
   "cell_type": "code",
   "execution_count": 4,
   "id": "46101028",
   "metadata": {},
   "outputs": [],
   "source": [
    "import numpy as np\n",
    "import pandas as pd\n",
    "\n",
    "def _split_into_rgb(i) -> tuple:\n",
    "    ir = i[:, :, 0]\n",
    "    ig = i[:, :, 1]\n",
    "    ib = i[:, :, 2]\n",
    "    return ir, ig, ib\n",
    "\n",
    "\n",
    "def _marshal_to_point_form(im_slice, rgb, z) -> pd.DataFrame:\n",
    "    points = []\n",
    "    for y in range(im_slice.shape[0]):\n",
    "        row = im_slice[y, :]\n",
    "        pts = [(x, y, z, rgb, val) for x, val in enumerate(row)]\n",
    "        points.extend(pts)\n",
    "    df = pd.DataFrame(points)\n",
    "    df.columns = ['x', 'y', 'z', 'rgb', 'val']\n",
    "    return df\n",
    "\n",
    "\n",
    "def process_image_to_points(i, z) -> pd.DataFrame:\n",
    "    color_slices = _split_into_rgb(i)\n",
    "    frames = [_marshal_to_point_form(cs, c, z) for c, cs in enumerate(color_slices)]\n",
    "    return pd.concat(frames)\n",
    "\n"
   ]
  },
  {
   "cell_type": "code",
   "execution_count": 5,
   "id": "a7801795",
   "metadata": {},
   "outputs": [],
   "source": [
    "# deserialize into 2-d point cloud\n",
    "if1 = process_image_to_points(image_matrices[0], 0)\n",
    "if2 = process_image_to_points(image_matrices[1], 1)"
   ]
  },
  {
   "cell_type": "code",
   "execution_count": 6,
   "id": "7c2af023",
   "metadata": {},
   "outputs": [],
   "source": [
    "# write images to database\n",
    "\n",
    "import sqlite3\n",
    "from sqlite3 import Error\n",
    "\n",
    "\n",
    "class DatabaseContextManager():\n",
    "    def __init__(self, db_file: str):\n",
    "        self.db_file = db_file\n",
    "        self._connection = None\n",
    "        \n",
    "    @property\n",
    "    def connection(self):\n",
    "        if self._connection is None:\n",
    "            self._connection = sqlite3.connect(self.db_file)\n",
    "        return self._connection\n",
    "           \n",
    "    def __enter__(self):\n",
    "        return self.connection\n",
    "       \n",
    "    def __exit__(self, exc_type, exc_value, exc_traceback):\n",
    "        self._connection.close()\n",
    "        \n",
    "    \n",
    "default_db = \"drawfun.db\"\n"
   ]
  },
  {
   "cell_type": "code",
   "execution_count": 7,
   "id": "3f6dd07b",
   "metadata": {},
   "outputs": [],
   "source": [
    "with DatabaseContextManager(default_db) as conn:\n",
    "    db_config = {\n",
    "    'name': 'pixels',\n",
    "    'con':conn,\n",
    "    'if_exists':'replace',\n",
    "    'index':False,\n",
    "    }\n",
    "    pd.concat([if1, if2]).to_sql(**db_config)"
   ]
  },
  {
   "cell_type": "code",
   "execution_count": 8,
   "id": "a02a9929",
   "metadata": {},
   "outputs": [
    {
     "name": "stdout",
     "output_type": "stream",
     "text": [
      "[(57640800,)]\n"
     ]
    }
   ],
   "source": [
    "with DatabaseContextManager(default_db) as conn:\n",
    "    result = conn.execute('SELECT COUNT(*) FROM pixels;').fetchall()\n",
    "    print(result)"
   ]
  },
  {
   "cell_type": "code",
   "execution_count": 9,
   "id": "2ab7c7c7",
   "metadata": {},
   "outputs": [],
   "source": [
    "# Query picture pixels\n",
    "\n",
    "import pandas as pd\n",
    "\n",
    "query = \"\"\"\n",
    "SELECT\n",
    "    *\n",
    "FROM\n",
    "    pixels\n",
    "WHERE\n",
    "    x < 500\n",
    "    AND\n",
    "    y < 300\n",
    "    AND\n",
    "    z = 1;\n",
    "\"\"\"\n",
    "\n",
    "with DatabaseContextManager(default_db) as conn:\n",
    "    df = pd.DataFrame(\n",
    "        conn.execute(query).fetchall(), \n",
    "        columns=['x', 'y', 'z', 'rgb', 'val']\n",
    "    )"
   ]
  },
  {
   "cell_type": "code",
   "execution_count": 10,
   "id": "2eb3e413",
   "metadata": {},
   "outputs": [],
   "source": [
    "import numpy as np\n",
    "\n",
    "def build_img_array_from_df(df: pd.DataFrame):\n",
    "    mx = df.x.max() + 1\n",
    "    my = df.y.max() + 1\n",
    "    \n",
    "    r = df[df.rgb == 0].val.to_numpy()\\\n",
    "        .reshape(my, mx)\n",
    "    g = df[df.rgb == 1].val.to_numpy()\\\n",
    "        .reshape(my, mx)\n",
    "    b = df[df.rgb == 2].val.to_numpy()\\\n",
    "        .reshape(my, mx)\n",
    "    \n",
    "    return np.dstack([r, g, b])\n",
    "    "
   ]
  },
  {
   "cell_type": "code",
   "execution_count": 11,
   "id": "707b43bc",
   "metadata": {},
   "outputs": [
    {
     "data": {
      "text/plain": [
       "(300, 500, 3)"
      ]
     },
     "execution_count": 11,
     "metadata": {},
     "output_type": "execute_result"
    }
   ],
   "source": [
    "r = build_img_array_from_df(df)\n",
    "r.shape"
   ]
  },
  {
   "cell_type": "code",
   "execution_count": 12,
   "id": "ca160c78",
   "metadata": {},
   "outputs": [
    {
     "name": "stderr",
     "output_type": "stream",
     "text": [
      "Clipping input data to the valid range for imshow with RGB data ([0..1] for floats or [0..255] for integers).\n"
     ]
    },
    {
     "data": {
      "text/plain": [
       "<matplotlib.image.AxesImage at 0x22e665817c0>"
      ]
     },
     "execution_count": 12,
     "metadata": {},
     "output_type": "execute_result"
    },
    {
     "data": {
      "image/png": "[encoded data removed]",
      "text/plain": [
       "<Figure size 432x288 with 1 Axes>"
      ]
     },
     "metadata": {
      "needs_background": "light"
     },
     "output_type": "display_data"
    }
   ],
   "source": [
    "import matplotlib.pyplot as plt\n",
    "plt.imshow(r)"
   ]
  },
  {
   "cell_type": "code",
   "execution_count": null,
   "id": "ee704d2c",
   "metadata": {},
   "outputs": [],
   "source": []
  }
 ],
 "metadata": {
  "kernelspec": {
   "display_name": "Python 3.9.12 ('base')",
   "language": "python",
   "name": "python3"
  },
  "language_info": {
   "codemirror_mode": {
    "name": "ipython",
    "version": 3
   },
   "file_extension": ".py",
   "mimetype": "text/x-python",
   "name": "python",
   "nbconvert_exporter": "python",
   "pygments_lexer": "ipython3",
   "version": "3.9.12"
  },
  "vscode": {
   "interpreter": {
    "hash": "9650271bdd78a22e85183991cd783a81f0556b043e5f3178821a7ed2d82780bf"
   }
  }
 },
 "nbformat": 4,
 "nbformat_minor": 5
}
